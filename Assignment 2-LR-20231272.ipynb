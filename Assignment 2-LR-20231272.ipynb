{
 "cells": [
  {
   "cell_type": "markdown",
   "metadata": {},
   "source": [
    "<h1 style=\"text-align: center;margin:-7px\">Machine Learning Assigment 2</h1>\n",
    "<h2 style=\"text-align: center;\">Assignment 2: Implement Logistic Regression from scratch</h2>\n",
    "<h3 style=\"text-align: center;margin:7px\">Student ID: 20231272</h3>\n",
    "<h3 style=\"text-align: center;margin:3px\">Student Name: Kollapudi Nagendra Dheeraj</h3>"
   ]
  },
  {
   "cell_type": "code",
   "execution_count": 1,
   "metadata": {},
   "outputs": [],
   "source": [
    "#Basic File and Matrix Vectorized programming imports\n",
    "import pandas as pd\n",
    "import numpy as np\n",
    "\n",
    "#Standard Imports for Doing Train Test Split and Accuracy\n",
    "from sklearn.model_selection import train_test_split\n",
    "from sklearn.metrics import accuracy_score\n",
    "\n",
    "#Reference ML Package along with the functions\n",
    "from sklearn.linear_model import LogisticRegression\n",
    "\n",
    "#For performing High Quality Tests\n",
    "from sklearn.metrics import confusion_matrix, classification_report, roc_curve, auc\n",
    "\n",
    "#For Flattening the List and Data Visualization\n",
    "from itertools import cycle, chain\n",
    "\n",
    "#For Visualization\n",
    "import seaborn as sns\n",
    "\n",
    "import matplotlib.pyplot as plt\n",
    "%matplotlib inline"
   ]
  },
  {
   "cell_type": "markdown",
   "metadata": {},
   "source": [
    "# Loading Dataset"
   ]
  },
  {
   "cell_type": "code",
   "execution_count": 2,
   "metadata": {},
   "outputs": [
    {
     "data": {
      "text/html": [
       "<div>\n",
       "<style scoped>\n",
       "    .dataframe tbody tr th:only-of-type {\n",
       "        vertical-align: middle;\n",
       "    }\n",
       "\n",
       "    .dataframe tbody tr th {\n",
       "        vertical-align: top;\n",
       "    }\n",
       "\n",
       "    .dataframe thead th {\n",
       "        text-align: right;\n",
       "    }\n",
       "</style>\n",
       "<table border=\"1\" class=\"dataframe\">\n",
       "  <thead>\n",
       "    <tr style=\"text-align: right;\">\n",
       "      <th></th>\n",
       "      <th>calorific_value</th>\n",
       "      <th>nitrogen</th>\n",
       "      <th>turbidity</th>\n",
       "      <th>Style</th>\n",
       "      <th>alcohol</th>\n",
       "      <th>sugars</th>\n",
       "      <th>bitterness</th>\n",
       "      <th>beer_id</th>\n",
       "      <th>colour</th>\n",
       "      <th>degree_of_fermentation</th>\n",
       "    </tr>\n",
       "  </thead>\n",
       "  <tbody>\n",
       "    <tr>\n",
       "      <th>0</th>\n",
       "      <td>41.721239</td>\n",
       "      <td>0.503276</td>\n",
       "      <td>2.628182</td>\n",
       "      <td>ale</td>\n",
       "      <td>4.015385</td>\n",
       "      <td>16.73</td>\n",
       "      <td>10.452789</td>\n",
       "      <td>93</td>\n",
       "      <td>13.44</td>\n",
       "      <td>55.337143</td>\n",
       "    </tr>\n",
       "    <tr>\n",
       "      <th>1</th>\n",
       "      <td>42.429204</td>\n",
       "      <td>0.525512</td>\n",
       "      <td>1.776364</td>\n",
       "      <td>ale</td>\n",
       "      <td>4.092308</td>\n",
       "      <td>16.72</td>\n",
       "      <td>10.999526</td>\n",
       "      <td>103</td>\n",
       "      <td>12.24</td>\n",
       "      <td>58.380000</td>\n",
       "    </tr>\n",
       "    <tr>\n",
       "      <th>2</th>\n",
       "      <td>45.880531</td>\n",
       "      <td>0.443233</td>\n",
       "      <td>2.628182</td>\n",
       "      <td>ale</td>\n",
       "      <td>4.276923</td>\n",
       "      <td>16.68</td>\n",
       "      <td>13.456368</td>\n",
       "      <td>178</td>\n",
       "      <td>10.92</td>\n",
       "      <td>58.382857</td>\n",
       "    </tr>\n",
       "    <tr>\n",
       "      <th>3</th>\n",
       "      <td>45.305310</td>\n",
       "      <td>0.471668</td>\n",
       "      <td>1.806364</td>\n",
       "      <td>ale</td>\n",
       "      <td>4.126154</td>\n",
       "      <td>18.84</td>\n",
       "      <td>9.202737</td>\n",
       "      <td>166</td>\n",
       "      <td>10.92</td>\n",
       "      <td>58.525714</td>\n",
       "    </tr>\n",
       "    <tr>\n",
       "      <th>4</th>\n",
       "      <td>38.977876</td>\n",
       "      <td>0.392846</td>\n",
       "      <td>2.272727</td>\n",
       "      <td>ale</td>\n",
       "      <td>4.015385</td>\n",
       "      <td>16.77</td>\n",
       "      <td>9.457895</td>\n",
       "      <td>44</td>\n",
       "      <td>10.56</td>\n",
       "      <td>58.900000</td>\n",
       "    </tr>\n",
       "  </tbody>\n",
       "</table>\n",
       "</div>"
      ],
      "text/plain": [
       "   calorific_value  nitrogen  turbidity Style   alcohol  sugars  bitterness  \\\n",
       "0        41.721239  0.503276   2.628182   ale  4.015385   16.73   10.452789   \n",
       "1        42.429204  0.525512   1.776364   ale  4.092308   16.72   10.999526   \n",
       "2        45.880531  0.443233   2.628182   ale  4.276923   16.68   13.456368   \n",
       "3        45.305310  0.471668   1.806364   ale  4.126154   18.84    9.202737   \n",
       "4        38.977876  0.392846   2.272727   ale  4.015385   16.77    9.457895   \n",
       "\n",
       "   beer_id  colour  degree_of_fermentation  \n",
       "0       93   13.44               55.337143  \n",
       "1      103   12.24               58.380000  \n",
       "2      178   10.92               58.382857  \n",
       "3      166   10.92               58.525714  \n",
       "4       44   10.56               58.900000  "
      ]
     },
     "execution_count": 2,
     "metadata": {},
     "output_type": "execute_result"
    }
   ],
   "source": [
    "cols = ['calorific_value', 'nitrogen', 'turbidity', 'Style', 'alcohol', 'sugars', 'bitterness', 'beer_id', 'colour', 'degree_of_fermentation']\n",
    "    \n",
    "df = pd.read_csv('beer.txt',sep='\\t', header=None, names=cols)\n",
    "df.head()"
   ]
  },
  {
   "cell_type": "markdown",
   "metadata": {},
   "source": [
    "# Extract Features and Labels for Processing"
   ]
  },
  {
   "cell_type": "code",
   "execution_count": 3,
   "metadata": {},
   "outputs": [
    {
     "name": "stdout",
     "output_type": "stream",
     "text": [
      "(154, 8)\n",
      "(154,)\n"
     ]
    }
   ],
   "source": [
    "#Extracting Style column as it is the column of interest for the algo \n",
    "##to detect the label of these values\n",
    "y = df['Style'].values\n",
    "\n",
    "#Extract all the other columns expect Style - label that the algo must identify \n",
    "##and beer_id doesn't add much info\n",
    "X = df.drop(['Style','beer_id'],axis=1).values\n",
    "\n",
    "print(X.shape)\n",
    "print(y.shape)"
   ]
  },
  {
   "cell_type": "markdown",
   "metadata": {},
   "source": [
    "# Perform Feature Scaling over X values"
   ]
  },
  {
   "cell_type": "markdown",
   "metadata": {},
   "source": [
    "\\begin{equation}\n",
    "\\mu = \\frac{1}{N} \\sum_{i=1}^N (X_i) \n",
    "\\end{equation}\n",
    "\n",
    "\\begin{equation}\n",
    "\\sigma = \\sqrt{\\frac{1}{N} \\sum_{i=1}^N (X_i - \\mu)^2} \n",
    "\\end{equation}\n",
    "\n",
    "\\begin{equation}\n",
    "z = \\frac{x - \\mu}{\\sigma} \n",
    "\\end{equation}\n",
    "\n",
    "\\begin{align*}\n",
    " \\text{where:}~  X_i &= \\text{column-wise values,} \\\\\n",
    "      \\mu &= \\text{Mean or Average value of X,} \\\\\n",
    "      \\sigma &= \\text{Standard Deviation of the X,} \\\\\n",
    "      z &= \\text{Normalized Value of X - these values lie in the range of (0-1)} \\\\\n",
    "\\end{align*}"
   ]
  },
  {
   "cell_type": "code",
   "execution_count": 4,
   "metadata": {},
   "outputs": [],
   "source": [
    "#Calculate the mean - column wise\n",
    "mean = np.mean(X, axis=0) \n",
    "\n",
    "#Calculate the standard deviation - column wise\n",
    "sd = np.std(X, axis=0) \n",
    "\n",
    "#Implement the formula as shown above:\n",
    "X = (X - mean) / sd"
   ]
  },
  {
   "cell_type": "markdown",
   "metadata": {},
   "source": [
    "# LR Hypothesis"
   ]
  },
  {
   "cell_type": "markdown",
   "metadata": {},
   "source": [
    "\\begin{equation}\n",
    "hypothesis = \\frac{1}{1 + e^{-\\theta^T x}}\n",
    "\\end{equation}\n",
    "\n",
    "\\begin{align*}\n",
    " \\text{where:}~e &= \\text{Exponential Power of the value,} \\\\\n",
    "      \\theta^T &= \\text{vector of parameters or weights that are to be calculated,} \\\\\n",
    "      x &= \\text{x or feature values of the dataset} \\\\\n",
    "\\end{align*}"
   ]
  },
  {
   "cell_type": "code",
   "execution_count": 5,
   "metadata": {},
   "outputs": [],
   "source": [
    "def hypothesis(x):\n",
    "    return 1 / (1 + np.exp(-x))"
   ]
  },
  {
   "cell_type": "markdown",
   "metadata": {},
   "source": [
    "# LR Gradient Descent"
   ]
  },
  {
   "cell_type": "markdown",
   "metadata": {},
   "source": [
    "\\begin{equation}\n",
    "\\theta^{new} = \\theta^{old} - \\alpha\\frac{1}{m}\\sum_{i=1}^m x_j^i(h_\\theta(x^i) - y^i)\n",
    "\\end{equation}\n",
    "\n",
    "\\begin{align*}\n",
    " \\text{where:}~ \\alpha &= \\text{learning rate,} \\\\\n",
    "      m &= \\text{length of the y input,} \\\\\n",
    "      x_j^i &= \\text{value of the X per } i^{th} \\text{row and } j^{th} \\text{col,} \\\\\n",
    "      h_\\theta(x^i) &= \\text{hypothesis or the sigmoid value calculated with X and empty } \\theta \\text{ vector,} \\\\\n",
    "      y^i & = \\text{y or label values of the dataset} \\\\\n",
    "\\end{align*}"
   ]
  },
  {
   "cell_type": "code",
   "execution_count": 6,
   "metadata": {},
   "outputs": [],
   "source": [
    "def gradient_descent(X, Y, theta, epochs):\n",
    "    \n",
    "    for i in range(epochs):\n",
    "        #Computing h_theta(x) part of the code\n",
    "        h = hypothesis(np.dot(X,theta))\n",
    "\n",
    "        #Calculating the second part of the equation without the learning rate\n",
    "        gradient_value = (1/len(Y)) * np.dot(X.T, (h - Y))\n",
    "\n",
    "        # Combining the formula\n",
    "        theta -= 0.001 * gradient_value\n",
    "    return theta"
   ]
  },
  {
   "cell_type": "markdown",
   "metadata": {},
   "source": [
    "# LR Fit"
   ]
  },
  {
   "cell_type": "markdown",
   "metadata": {},
   "source": [
    "<h3> Here we are trying to get the theta values for each class across features </h3>"
   ]
  },
  {
   "cell_type": "markdown",
   "metadata": {},
   "source": [
    "\\begin{equation}\n",
    "\\theta[3{classes}, 8{features}] = \n",
    "\\begin{bmatrix}\n",
    "\\theta_1^1 & \\theta_2^1 & \\theta_3^1 & \\theta_4^1 & \\theta_5^1 & \\theta_6^1 & \\theta_7^1 & \\theta_8^1 \\\\\n",
    "\\theta_1^2 & \\theta_2^2 & \\theta_3^2 & \\theta_4^2 & \\theta_5^2 & \\theta_6^2 & \\theta_7^2 & \\theta_8^2 \\\\\n",
    "\\theta_1^3 & \\theta_2^3 & \\theta_3^3 & \\theta_4^3 & \\theta_5^3 & \\theta_6^3 & \\theta_7^3 & \\theta_8^3 \\\\\n",
    "\\end{bmatrix}\n",
    "\\end{equation}\n",
    "\n",
    "\\begin{align*}\n",
    " \\text{where:}~ \\text{we are iterating over:} \\\\\n",
    "      & \\text{1) each unique class of Y (label)} \\\\\n",
    "      & \\text{2) trying to fit theta for each unique label of Y} \\\\\n",
    "      & \\text{3) Along with that perform gradient descent to find the best possible fit the - } \\\\\n",
    "                                   &\\text{LR Parameters i.e. } h_\\theta(x^i) = y^i\\\\\n",
    "\\end{align*}"
   ]
  },
  {
   "cell_type": "code",
   "execution_count": 7,
   "metadata": {},
   "outputs": [],
   "source": [
    "def fit(X_LR, Y_LR, epochs = 10000):\n",
    "    #Finding the unique values of Y so that looping for One vs Rest can done\n",
    "    classes = np.unique(Y_LR)\n",
    "    \n",
    "    #Also finding the length of the X and Y values for reshaping of numpy wherever needed.\n",
    "    num_classes = len(classes)\n",
    "    num_features = X_LR.shape[1]\n",
    "    \n",
    "    #Initialize an empty numpy array of 3 * 8 blocks (as per this dataset)\n",
    "    theta = np.empty([num_classes, num_features])\n",
    "\n",
    "    #Performing One vs Rest Implementation\n",
    "    #Iterate over each class along with index over the unique classes\n",
    "    for index, label_class in enumerate(classes):\n",
    "\n",
    "        #Mapping the non-label_class value to 0 and label_class value to 1 and shaping it to required dimensions\n",
    "        y_one_vs_rest = np.where(Y_LR == label_class, 1, 0).reshape((len(Y_LR), 1))\n",
    "\n",
    "        #Initialize Gradient Descent with 0's and pass it to the numpy array created above per unique class\n",
    "        theta[index] = gradient_descent(X_LR, y_one_vs_rest, np.zeros((num_features, 1)), epochs).reshape(num_features)\n",
    "    \n",
    "    return theta"
   ]
  },
  {
   "cell_type": "markdown",
   "metadata": {},
   "source": [
    "# LR Predictions"
   ]
  },
  {
   "cell_type": "markdown",
   "metadata": {},
   "source": [
    "\\begin{equation}\n",
    "\\text{prediction of X record = index of the} \\max{(hypothesis(x * \\theta^{T}) = \\begin{bmatrix}\n",
    "\\theta_1^1 & \\theta_2^1 & \\theta_3^1 \n",
    "\\end{bmatrix})}\n",
    "\\end{equation}\n",
    "\n",
    "\\begin{align*}\n",
    " \\text{where:}~ hypothesis &= \\text{Hypothesis of the LR i.e. sigmoid function} \\\\\n",
    "      x &= \\text{test data or unseen data} \\\\\n",
    "      \\theta^T &= \\text{theta values fitted during training phase} \\\\\n",
    "  \\text{prediction}~ &= \\text{Maximum of the probabilities returned by the list} \\\\\n",
    "\\end{align*}"
   ]
  },
  {
   "cell_type": "code",
   "execution_count": 8,
   "metadata": {},
   "outputs": [],
   "source": [
    "def predictions(theta, X):\n",
    "    classes = np.unique(y)\n",
    "    \n",
    "    #Re-Computing Hypothesis, but here the thetas are is non-empty array but those which we have fitted earlier\n",
    "    #unlike fit phase in empty []\n",
    "    h = hypothesis(np.dot(X,theta.T))\n",
    "\n",
    "    #Returning the class which has the highest hypothesis value\n",
    "    return [classes[np.where(h[i] == max(h[i]))] for i in range(X.shape[0])]"
   ]
  },
  {
   "cell_type": "markdown",
   "metadata": {},
   "source": [
    "# Referencing my Implementation against ML Package (Scikit Learn)"
   ]
  },
  {
   "cell_type": "code",
   "execution_count": 9,
   "metadata": {},
   "outputs": [],
   "source": [
    "num_iter = 10\n",
    "impl_lr_accuracy    = []\n",
    "sklearn_lr_accuracy = []\n",
    "\n",
    "y_preds = []\n",
    "y_tests = []\n",
    "\n",
    "y_preds_sklearn = []\n",
    "y_tests_sklearn = []\n",
    "\n",
    "#Open a file in the write mode to write the predictions into the system.\n",
    "f = open('predictions.csv', 'w')\n",
    "\n",
    "for iter in range(num_iter):\n",
    "    X_train, X_test, y_train, y_test = train_test_split(X, y, train_size = 0.67, shuffle = True)\n",
    "    \n",
    "    #Fit and Predicting the LR model over the train and test data split\n",
    "    lr_thetas = fit(X_train, y_train)\n",
    "    y_pred = predictions(lr_thetas, X_test)\n",
    "    \n",
    "    ##Finding accuracy and inputting it into the list so that it can plotted into the list\n",
    "    impl_lr_accuracy.append(accuracy_score(y_test, y_pred))\n",
    "    \n",
    "    ###Appending pred and test values into list for generating confusion and classification reports\n",
    "    y_preds.append(y_pred)\n",
    "    y_tests.append(y_test)\n",
    "    \n",
    "    \n",
    "    ## Writing the Implementation's Prediction into the File\n",
    "    f.write(\"Iteration %s: Predictions\\n##########################\\n\" %(iter+1))\n",
    "    for pred, test_val in zip(y_pred, y_test):\n",
    "        f.write(\"%s, %s\" %(pred[0], test_val) + \"\\n\")\n",
    "    f.write(\"\\n\")\n",
    "\n",
    "    \n",
    "    #SkLearn Implementation of LR model over the train and test data split\n",
    "    lr_model = LogisticRegression(multi_class='multinomial').fit(X_train, y_train)\n",
    "    y_pred = lr_model.predict(X_test)\n",
    "    \n",
    "    ##Finding accuracy and inputting it into the list so that it can plotted into the list\n",
    "    sklearn_lr_accuracy.append(accuracy_score(y_test, y_pred))\n",
    "    \n",
    "    ###Appending pred and test values into list for generating confusion and classification reports\n",
    "    y_preds_sklearn.append(y_pred)\n",
    "    y_tests_sklearn.append(y_test)\n",
    "    \n",
    "f.close()"
   ]
  },
  {
   "cell_type": "code",
   "execution_count": 10,
   "metadata": {},
   "outputs": [
    {
     "name": "stdout",
     "output_type": "stream",
     "text": [
      "Mean Accuracy on implemented  LR Algo is 0.971\n",
      "Mean Accuracy on sklearn      LR Algo is 0.961\n"
     ]
    },
    {
     "data": {
      "text/html": [
       "<div>\n",
       "<style scoped>\n",
       "    .dataframe tbody tr th:only-of-type {\n",
       "        vertical-align: middle;\n",
       "    }\n",
       "\n",
       "    .dataframe tbody tr th {\n",
       "        vertical-align: top;\n",
       "    }\n",
       "\n",
       "    .dataframe thead th {\n",
       "        text-align: right;\n",
       "    }\n",
       "</style>\n",
       "<table border=\"1\" class=\"dataframe\">\n",
       "  <thead>\n",
       "    <tr style=\"text-align: right;\">\n",
       "      <th></th>\n",
       "      <th>Implementation Accuracies</th>\n",
       "      <th>SKLearn Accuracies</th>\n",
       "    </tr>\n",
       "  </thead>\n",
       "  <tbody>\n",
       "    <tr>\n",
       "      <th>Iteration 01</th>\n",
       "      <td>0.960784</td>\n",
       "      <td>0.941176</td>\n",
       "    </tr>\n",
       "    <tr>\n",
       "      <th>Iteration 02</th>\n",
       "      <td>0.960784</td>\n",
       "      <td>0.980392</td>\n",
       "    </tr>\n",
       "    <tr>\n",
       "      <th>Iteration 03</th>\n",
       "      <td>0.960784</td>\n",
       "      <td>0.941176</td>\n",
       "    </tr>\n",
       "    <tr>\n",
       "      <th>Iteration 04</th>\n",
       "      <td>0.960784</td>\n",
       "      <td>0.960784</td>\n",
       "    </tr>\n",
       "    <tr>\n",
       "      <th>Iteration 05</th>\n",
       "      <td>0.960784</td>\n",
       "      <td>0.941176</td>\n",
       "    </tr>\n",
       "    <tr>\n",
       "      <th>Iteration 06</th>\n",
       "      <td>1.000000</td>\n",
       "      <td>0.980392</td>\n",
       "    </tr>\n",
       "    <tr>\n",
       "      <th>Iteration 07</th>\n",
       "      <td>1.000000</td>\n",
       "      <td>1.000000</td>\n",
       "    </tr>\n",
       "    <tr>\n",
       "      <th>Iteration 08</th>\n",
       "      <td>0.960784</td>\n",
       "      <td>0.960784</td>\n",
       "    </tr>\n",
       "    <tr>\n",
       "      <th>Iteration 09</th>\n",
       "      <td>0.980392</td>\n",
       "      <td>0.960784</td>\n",
       "    </tr>\n",
       "    <tr>\n",
       "      <th>Iteration 10</th>\n",
       "      <td>0.960784</td>\n",
       "      <td>0.941176</td>\n",
       "    </tr>\n",
       "  </tbody>\n",
       "</table>\n",
       "</div>"
      ],
      "text/plain": [
       "              Implementation Accuracies  SKLearn Accuracies\n",
       "Iteration 01                   0.960784            0.941176\n",
       "Iteration 02                   0.960784            0.980392\n",
       "Iteration 03                   0.960784            0.941176\n",
       "Iteration 04                   0.960784            0.960784\n",
       "Iteration 05                   0.960784            0.941176\n",
       "Iteration 06                   1.000000            0.980392\n",
       "Iteration 07                   1.000000            1.000000\n",
       "Iteration 08                   0.960784            0.960784\n",
       "Iteration 09                   0.980392            0.960784\n",
       "Iteration 10                   0.960784            0.941176"
      ]
     },
     "execution_count": 10,
     "metadata": {},
     "output_type": "execute_result"
    }
   ],
   "source": [
    "#Printing final results\n",
    "print('Mean Accuracy on implemented  LR Algo is', round(np.mean(impl_lr_accuracy),3))\n",
    "print('Mean Accuracy on sklearn      LR Algo is', round(np.mean(sklearn_lr_accuracy),3))\n",
    "\n",
    "#Adding the value into a DataFrame for better visualization\n",
    "pd.DataFrame(list(zip(impl_lr_accuracy, sklearn_lr_accuracy)), \n",
    "             index=list(map(lambda x: 'Iteration '+str(x).zfill(2), np.arange(1, num_iter+1, 1))),\n",
    "               columns =['Implementation Accuracies', 'SKLearn Accuracies'])"
   ]
  },
  {
   "cell_type": "markdown",
   "metadata": {},
   "source": [
    "# High quality and comprehensive tests"
   ]
  },
  {
   "cell_type": "markdown",
   "metadata": {},
   "source": [
    "## Test 1: Accuracy vs Iteration"
   ]
  },
  {
   "cell_type": "code",
   "execution_count": 11,
   "metadata": {},
   "outputs": [
    {
     "data": {
      "image/png": "[encoded data removed]",
      "text/plain": [
       "<Figure size 432x288 with 1 Axes>"
      ]
     },
     "metadata": {
      "needs_background": "light"
     },
     "output_type": "display_data"
    }
   ],
   "source": [
    "#Plotting SKLearn's and Implemented Accuracies list into plt function\n",
    "plt.plot(range(1,num_iter+1), sklearn_lr_accuracy, label = 'Sklearn LR')\n",
    "plt.plot(range(1,num_iter+1), impl_lr_accuracy, label = 'Implementation LR')\n",
    "\n",
    "#MetaData for better understanding the plot\n",
    "plt.title('Accuracies of the Implementations')\n",
    "plt.ylabel('Accuracy')\n",
    "plt.xlabel('Iteration')\n",
    "plt.legend()\n",
    "\n",
    "#Adjusting the x axis\n",
    "plt.xlim(1,10)\n",
    "plt.xticks(np.arange(1, num_iter+1, 1))\n",
    "\n",
    "plt.show()"
   ]
  },
  {
   "cell_type": "markdown",
   "metadata": {},
   "source": [
    "## Test 2: Receiver Operating Characteristic Curve"
   ]
  },
  {
   "cell_type": "code",
   "execution_count": 12,
   "metadata": {},
   "outputs": [],
   "source": [
    "y_tests = list(chain(*y_tests))\n",
    "y_preds = np.concatenate(y_preds, 0).ravel().tolist()\n",
    "\n",
    "y_tests_sklearn = list(chain(*y_tests_sklearn))\n",
    "y_preds_sklearn = np.concatenate(y_preds_sklearn, 0).ravel().tolist()"
   ]
  },
  {
   "cell_type": "code",
   "execution_count": 13,
   "metadata": {},
   "outputs": [],
   "source": [
    "#Function that creates ROC curve for multiclass using One vs Rest Implementation.\n",
    "def roc_multiclass(y_test, y_pred, title):\n",
    "    #Creating One Hot Vectors from the predicted and test values\n",
    "    y_pred_One_Hot = pd.get_dummies(pd.DataFrame(y_pred))\n",
    "    y_test_One_Hot = pd.get_dummies(pd.DataFrame(y_test))\n",
    "\n",
    "    fpr = {}\n",
    "    tpr = {}\n",
    "    roc_auc = {}\n",
    "\n",
    "    classes = np.unique(y_test)\n",
    "    len_max_class = len(max(classes.ravel().tolist()))\n",
    "    \n",
    "    #As ROC Function doesn't consider multiclass so using One vs Rest Implementation as we did before to compute\n",
    "    ##ROC for each unique class and finding roc_values and putting them into a dictionary\n",
    "    for i in range(len(classes)):\n",
    "        fpr[i], tpr[i], th = roc_curve(y_test_One_Hot.iloc[:, i], y_pred_One_Hot.iloc[:, i])\n",
    "        roc_auc[i] = auc(fpr[i], tpr[i])\n",
    "\n",
    "    #Plotting each into the graph for visualization\n",
    "    for i, color_label in zip(range(len(classes)), classes):\n",
    "        plt.plot(fpr[i], tpr[i], lw=2,\n",
    "                label = 'ROC Curve for class {0} (area = {1:0.2f})'.format(color_label.rjust(len_max_class), roc_auc[i]))\n",
    "\n",
    "    #Some meta data for better visualization\n",
    "    plt.plot([0, 1], [0, 1], 'k--', lw=2)\n",
    "    plt.xlim([0.0, 1.0])\n",
    "    plt.ylim([0.0, 1.05])\n",
    "    plt.xlabel('False Positive Rate')\n",
    "    plt.ylabel('True Positive Rate')\n",
    "    plt.title(title)\n",
    "    plt.legend(loc = 'lower right')"
   ]
  },
  {
   "cell_type": "code",
   "execution_count": 14,
   "metadata": {},
   "outputs": [
    {
     "data": {
      "image/png": "[encoded data removed]",
      "text/plain": [
       "<Figure size 1008x360 with 2 Axes>"
      ]
     },
     "metadata": {
      "needs_background": "light"
     },
     "output_type": "display_data"
    }
   ],
   "source": [
    "#Using Matplotlib subplots to display results side-by-side\n",
    "fig = plt.figure(figsize=(14,5))\n",
    "\n",
    "#calling the generated function\n",
    "plt.subplot(1,2,1)\n",
    "roc_multiclass(y_tests, y_preds, title = 'ROC curve - Logistic Regression from Implementation')\n",
    "\n",
    "#calling the generated function\n",
    "plt.subplot(1,2,2)\n",
    "roc_multiclass(y_tests_sklearn, y_preds_sklearn, title = 'ROC curve - Logistic Regression from SkLearn')\n",
    "\n",
    "plt.show()"
   ]
  },
  {
   "cell_type": "markdown",
   "metadata": {},
   "source": [
    "## Test 3: Confusion Matrix"
   ]
  },
  {
   "cell_type": "code",
   "execution_count": 15,
   "metadata": {},
   "outputs": [],
   "source": [
    "#Creating the confusion matrix that could display more values than sklearn's confusion_matrix function. Along with the \n",
    "## some other metrics like Precision, Recall, F1-Score etc.\n",
    "def confusion_matrix_sns(y_test, y_pred, title):\n",
    "    #Computing the confusion matrix from the y_test list and y_preds out of 0 iterations\n",
    "    df_cm = confusion_matrix(y_test, y_pred)\n",
    "    \n",
    "    #Creating an empty list of data as per the size of the confusion matrix created\n",
    "    group_labels = ['' for i in range(df_cm.size)]\n",
    "\n",
    "    #I wanted to display count and percentages created 2 more arrays for exactly this purpose\n",
    "    ##Calcuating the count already calculated by the matrix\n",
    "    group_counts = [\"{0:0.0f}\\n\".format(value) for value in df_cm.flatten()]\n",
    "    \n",
    "    ##Calculating the corresponding overall percentages\n",
    "    group_percentages = [\"{0:.2%}\".format(value) for value in df_cm.flatten()/np.sum(df_cm)]\n",
    "\n",
    "    ##Adding them as box labels seperated by new line that is done above\n",
    "    box_labels = [f\"{gl}{gc}{gp}\".strip() for gl, gc, gp in zip(group_labels,group_counts,group_percentages)]\n",
    "    \n",
    "    ##Reshaping it as per the dimensions so that there would no broadcase error\n",
    "    box_labels = np.asarray(box_labels).reshape(df_cm.shape[0],df_cm.shape[1])\n",
    "    \n",
    "    labels = np.unique(y_tests).ravel().tolist()\n",
    "    ##Creating the Seaborn HeatMap from the data\n",
    "    sns.heatmap(df_cm, annot=box_labels, cmap='Blues', fmt='', xticklabels=labels, yticklabels=labels)\n",
    "\n",
    "    #Adding more data to the plot\n",
    "    ##Computing the Accuracy\n",
    "    accuracy  = np.trace(df_cm) / float(np.sum(df_cm))\n",
    "\n",
    "    ##Calculating typical Precision, Recall, F1_score\n",
    "    precision = df_cm[1,1] / sum(df_cm[:,1])\n",
    "    recall    = df_cm[1,1] / sum(df_cm[1,:])\n",
    "    f1_score  = 2*precision*recall / (precision + recall)\n",
    "    \n",
    "    ##Appending all of them to string\n",
    "    stats_text = \"\\n\\nAccuracy={:0.3f}\\nPrecision={:0.3f}\\nRecall={:0.3f}\\nF1 Score={:0.3f}\".format(\n",
    "        accuracy,precision,recall,f1_score)\n",
    "\n",
    "    ##Additional info to the plot for better visualization\n",
    "    plt.ylabel('True label')\n",
    "    plt.title(title)\n",
    "    plt.xlabel('Predicted label'+stats_text)"
   ]
  },
  {
   "cell_type": "code",
   "execution_count": 16,
   "metadata": {},
   "outputs": [
    {
     "data": {
      "image/png": "[encoded data removed]",
      "text/plain": [
       "<Figure size 1008x360 with 4 Axes>"
      ]
     },
     "metadata": {
      "needs_background": "light"
     },
     "output_type": "display_data"
    }
   ],
   "source": [
    "#Using Matplotlib subplots to display results side-by-side\n",
    "fig = plt.figure(figsize=(14,5))\n",
    "\n",
    "#calling the generated function\n",
    "plt.subplot(1,2,1)\n",
    "confusion_matrix_sns(y_tests, y_preds, title = 'Implementation LR Matrix')\n",
    "\n",
    "#calling the generated function\n",
    "plt.subplot(1,2,2)\n",
    "confusion_matrix_sns(y_tests_sklearn, y_preds_sklearn, title = 'SKLearn LR Matrix')\n",
    "\n",
    "plt.show()"
   ]
  },
  {
   "cell_type": "markdown",
   "metadata": {},
   "source": [
    "## Test 4: Classification Report"
   ]
  },
  {
   "cell_type": "code",
   "execution_count": 17,
   "metadata": {},
   "outputs": [
    {
     "data": {
      "text/html": [
       "<style>\n",
       ".output {\n",
       "    flex-direction: row;\n",
       "}\n",
       "</style>"
      ],
      "text/plain": [
       "<IPython.core.display.HTML object>"
      ]
     },
     "execution_count": 17,
     "metadata": {},
     "output_type": "execute_result"
    }
   ],
   "source": [
    "from IPython.display import display, HTML\n",
    "\n",
    "css = \"\"\"\n",
    ".output {\n",
    "    flex-direction: row;\n",
    "}\n",
    "\"\"\"\n",
    "\n",
    "HTML('<style>{}</style>'.format(css))"
   ]
  },
  {
   "cell_type": "code",
   "execution_count": 18,
   "metadata": {},
   "outputs": [],
   "source": [
    "#Creates the classification_report based on the input and creates a pandas DataFrame for better visualization\n",
    "def classification_report_format(y_test, y_pred, title):\n",
    "    report = classification_report(y_test, y_pred, output_dict=True)\n",
    "    dfs = [pd.DataFrame(report)]\n",
    "\n",
    "    return pd.concat(\n",
    "        [df.rename(columns=lambda x: x.zfill(3)) for df in dfs],\n",
    "        keys=[title],\n",
    "        axis=0)"
   ]
  },
  {
   "cell_type": "code",
   "execution_count": 19,
   "metadata": {},
   "outputs": [
    {
     "data": {
      "text/html": [
       "<div>\n",
       "<style scoped>\n",
       "    .dataframe tbody tr th:only-of-type {\n",
       "        vertical-align: middle;\n",
       "    }\n",
       "\n",
       "    .dataframe tbody tr th {\n",
       "        vertical-align: top;\n",
       "    }\n",
       "\n",
       "    .dataframe thead tr th {\n",
       "        text-align: left;\n",
       "    }\n",
       "</style>\n",
       "<table border=\"1\" class=\"dataframe\">\n",
       "  <thead>\n",
       "    <tr>\n",
       "      <th></th>\n",
       "      <th colspan=\"4\" halign=\"left\">Implementation LR Classification Report</th>\n",
       "    </tr>\n",
       "    <tr>\n",
       "      <th></th>\n",
       "      <th>precision</th>\n",
       "      <th>recall</th>\n",
       "      <th>f1-score</th>\n",
       "      <th>support</th>\n",
       "    </tr>\n",
       "  </thead>\n",
       "  <tbody>\n",
       "    <tr>\n",
       "      <th>ale</th>\n",
       "      <td>0.956284</td>\n",
       "      <td>0.983146</td>\n",
       "      <td>0.969529</td>\n",
       "      <td>178.000000</td>\n",
       "    </tr>\n",
       "    <tr>\n",
       "      <th>lager</th>\n",
       "      <td>1.000000</td>\n",
       "      <td>0.928571</td>\n",
       "      <td>0.962963</td>\n",
       "      <td>168.000000</td>\n",
       "    </tr>\n",
       "    <tr>\n",
       "      <th>stout</th>\n",
       "      <td>0.959064</td>\n",
       "      <td>1.000000</td>\n",
       "      <td>0.979104</td>\n",
       "      <td>164.000000</td>\n",
       "    </tr>\n",
       "    <tr>\n",
       "      <th>accuracy</th>\n",
       "      <td>0.970588</td>\n",
       "      <td>0.970588</td>\n",
       "      <td>0.970588</td>\n",
       "      <td>0.970588</td>\n",
       "    </tr>\n",
       "    <tr>\n",
       "      <th>macro avg</th>\n",
       "      <td>0.971783</td>\n",
       "      <td>0.970572</td>\n",
       "      <td>0.970532</td>\n",
       "      <td>510.000000</td>\n",
       "    </tr>\n",
       "    <tr>\n",
       "      <th>weighted avg</th>\n",
       "      <td>0.971579</td>\n",
       "      <td>0.970588</td>\n",
       "      <td>0.970445</td>\n",
       "      <td>510.000000</td>\n",
       "    </tr>\n",
       "  </tbody>\n",
       "</table>\n",
       "</div>"
      ],
      "text/plain": [
       "             Implementation LR Classification Report                      \\\n",
       "                                           precision    recall  f1-score   \n",
       "ale                                         0.956284  0.983146  0.969529   \n",
       "lager                                       1.000000  0.928571  0.962963   \n",
       "stout                                       0.959064  1.000000  0.979104   \n",
       "accuracy                                    0.970588  0.970588  0.970588   \n",
       "macro avg                                   0.971783  0.970572  0.970532   \n",
       "weighted avg                                0.971579  0.970588  0.970445   \n",
       "\n",
       "                          \n",
       "                 support  \n",
       "ale           178.000000  \n",
       "lager         168.000000  \n",
       "stout         164.000000  \n",
       "accuracy        0.970588  \n",
       "macro avg     510.000000  \n",
       "weighted avg  510.000000  "
      ]
     },
     "metadata": {},
     "output_type": "display_data"
    },
    {
     "data": {
      "text/html": [
       "<div>\n",
       "<style scoped>\n",
       "    .dataframe tbody tr th:only-of-type {\n",
       "        vertical-align: middle;\n",
       "    }\n",
       "\n",
       "    .dataframe tbody tr th {\n",
       "        vertical-align: top;\n",
       "    }\n",
       "\n",
       "    .dataframe thead tr th {\n",
       "        text-align: left;\n",
       "    }\n",
       "</style>\n",
       "<table border=\"1\" class=\"dataframe\">\n",
       "  <thead>\n",
       "    <tr>\n",
       "      <th></th>\n",
       "      <th colspan=\"4\" halign=\"left\">SKLearn LR Classification Report</th>\n",
       "    </tr>\n",
       "    <tr>\n",
       "      <th></th>\n",
       "      <th>precision</th>\n",
       "      <th>recall</th>\n",
       "      <th>f1-score</th>\n",
       "      <th>support</th>\n",
       "    </tr>\n",
       "  </thead>\n",
       "  <tbody>\n",
       "    <tr>\n",
       "      <th>ale</th>\n",
       "      <td>0.940541</td>\n",
       "      <td>0.977528</td>\n",
       "      <td>0.958678</td>\n",
       "      <td>178.000000</td>\n",
       "    </tr>\n",
       "    <tr>\n",
       "      <th>lager</th>\n",
       "      <td>0.968354</td>\n",
       "      <td>0.910714</td>\n",
       "      <td>0.938650</td>\n",
       "      <td>168.000000</td>\n",
       "    </tr>\n",
       "    <tr>\n",
       "      <th>stout</th>\n",
       "      <td>0.976048</td>\n",
       "      <td>0.993902</td>\n",
       "      <td>0.984894</td>\n",
       "      <td>164.000000</td>\n",
       "    </tr>\n",
       "    <tr>\n",
       "      <th>accuracy</th>\n",
       "      <td>0.960784</td>\n",
       "      <td>0.960784</td>\n",
       "      <td>0.960784</td>\n",
       "      <td>0.960784</td>\n",
       "    </tr>\n",
       "    <tr>\n",
       "      <th>macro avg</th>\n",
       "      <td>0.961648</td>\n",
       "      <td>0.960715</td>\n",
       "      <td>0.960741</td>\n",
       "      <td>510.000000</td>\n",
       "    </tr>\n",
       "    <tr>\n",
       "      <th>weighted avg</th>\n",
       "      <td>0.961121</td>\n",
       "      <td>0.960784</td>\n",
       "      <td>0.960511</td>\n",
       "      <td>510.000000</td>\n",
       "    </tr>\n",
       "  </tbody>\n",
       "</table>\n",
       "</div>"
      ],
      "text/plain": [
       "             SKLearn LR Classification Report                                \n",
       "                                    precision    recall  f1-score     support\n",
       "ale                                  0.940541  0.977528  0.958678  178.000000\n",
       "lager                                0.968354  0.910714  0.938650  168.000000\n",
       "stout                                0.976048  0.993902  0.984894  164.000000\n",
       "accuracy                             0.960784  0.960784  0.960784    0.960784\n",
       "macro avg                            0.961648  0.960715  0.960741  510.000000\n",
       "weighted avg                         0.961121  0.960784  0.960511  510.000000"
      ]
     },
     "metadata": {},
     "output_type": "display_data"
    }
   ],
   "source": [
    "#calling the generated function\n",
    "report_of_impl = classification_report_format(y_tests, y_preds, 'Implementation LR Classification Report')\n",
    "\n",
    "#Display just takes the output and shows them side by side as I override the default css styling above\n",
    "display(pd.DataFrame(report_of_impl).transpose())\n",
    "\n",
    "#calling the generated function\n",
    "report_of_sklearn = classification_report_format(y_tests_sklearn, y_preds_sklearn, 'SKLearn LR Classification Report')\n",
    "display(pd.DataFrame(report_of_sklearn).transpose())"
   ]
  }
 ],
 "metadata": {
  "kernelspec": {
   "display_name": "Python 3",
   "language": "python",
   "name": "python3"
  },
  "language_info": {
   "codemirror_mode": {
    "name": "ipython",
    "version": 3
   },
   "file_extension": ".py",
   "mimetype": "text/x-python",
   "name": "python",
   "nbconvert_exporter": "python",
   "pygments_lexer": "ipython3",
   "version": "3.8.3"
  }
 },
 "nbformat": 4,
 "nbformat_minor": 4
}
